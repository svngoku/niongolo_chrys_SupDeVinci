{
 "cells": [
  {
   "cell_type": "markdown",
   "metadata": {},
   "source": [
    "#  Introduction à Python"
   ]
  },
  {
   "cell_type": "code",
   "execution_count": 58,
   "metadata": {},
   "outputs": [],
   "source": [
    "import os\n",
    "import string\n",
    "from random import shuffle\n",
    "from math import pi"
   ]
  },
  {
   "cell_type": "markdown",
   "metadata": {},
   "source": [
    "## TD 2 : Types de données "
   ]
  },
  {
   "cell_type": "markdown",
   "metadata": {},
   "source": [
    "## Exercice 1 ( Chaines de caractères )\n",
    "\n",
    "Notre algorithme s'occupe de parcourir la chaine et stocker les valeurs numérique et alphanumerique dans des tableaux spécifique puis affiche ses valeurs sous forme de chaine"
   ]
  },
  {
   "cell_type": "code",
   "execution_count": 169,
   "metadata": {},
   "outputs": [
    {
     "name": "stdout",
     "output_type": "stream",
     "text": [
      "Chaine: X44bf38j23jdjgfjh737nei47 \n",
      "\n",
      "4, 4, 3, 8, 2, 3, 7, 3, 7, 4, 7\n",
      "'X', 'b', 'f', 'j', 'j', 'd', 'j', 'g', 'f', 'j', 'h', 'n', 'e', 'i'\n"
     ]
    }
   ],
   "source": [
    "c = \"X44bf38j23jdjgfjh737nei47\"\n",
    "\n",
    "c_num_array = [int(i) for i in c if i.isdigit()]\n",
    "c_alpha_array = [str(i) for i in c if i.isalpha()]\n",
    "\n",
    "c_num = str(c_num_array).strip('[]')\n",
    "c_alpha = str(c_alpha_array).strip('[]')\n",
    "\n",
    "print(\"Chaine: {} \\n\".format(c))\n",
    "print(c_num)\n",
    "print(c_alpha)"
   ]
  },
  {
   "cell_type": "code",
   "execution_count": 80,
   "metadata": {},
   "outputs": [
    {
     "data": {
      "text/plain": [
       "'X44bf38j24jdjgfjh737nei47'"
      ]
     },
     "execution_count": 80,
     "metadata": {},
     "output_type": "execute_result"
    }
   ],
   "source": [
    "def verify_and_replace(string):\n",
    "    if(string.find('j23')):\n",
    "       string = string.replace('j23', 'j24')\n",
    "    return string\n",
    "\n",
    "verify_and_replace(c)"
   ]
  },
  {
   "cell_type": "markdown",
   "metadata": {},
   "source": [
    "## Exercice 2 ( Chaines de caractères ) "
   ]
  },
  {
   "cell_type": "code",
   "execution_count": 88,
   "metadata": {},
   "outputs": [
    {
     "data": {
      "text/plain": [
       "37"
      ]
     },
     "execution_count": 88,
     "metadata": {},
     "output_type": "execute_result"
    }
   ],
   "source": [
    "texte = \"We introduce here the Python language\"\n",
    "counter = 0\n",
    "\n",
    "len(texte)"
   ]
  },
  {
   "cell_type": "markdown",
   "metadata": {},
   "source": [
    "### Compte le nombre de caractère"
   ]
  },
  {
   "cell_type": "code",
   "execution_count": 87,
   "metadata": {},
   "outputs": [
    {
     "name": "stdout",
     "output_type": "stream",
     "text": [
      "37\n"
     ]
    }
   ],
   "source": [
    "def count_words(string, counter):\n",
    "    for char in string:\n",
    "        counter += 1\n",
    "    print(counter)\n",
    "        \n",
    "count_words(texte, counter)"
   ]
  },
  {
   "cell_type": "markdown",
   "metadata": {},
   "source": [
    "### Compte le nombre de caractère sans espace "
   ]
  },
  {
   "cell_type": "code",
   "execution_count": 104,
   "metadata": {},
   "outputs": [
    {
     "name": "stdout",
     "output_type": "stream",
     "text": [
      "Compteur:  5\n"
     ]
    }
   ],
   "source": [
    "def count_char_without_space(string, counter):\n",
    "    for char in string:\n",
    "        if char != \" \":\n",
    "            counter = ++counter\n",
    "    print(counter)\n",
    "        \n",
    "count_char_with_space(texte, counter)"
   ]
  },
  {
   "cell_type": "markdown",
   "metadata": {},
   "source": [
    "### Compte le nombre de caractère avec espace "
   ]
  },
  {
   "cell_type": "code",
   "execution_count": 109,
   "metadata": {},
   "outputs": [
    {
     "name": "stdout",
     "output_type": "stream",
     "text": [
      "Compteur:  5\n"
     ]
    }
   ],
   "source": [
    "def count_char_with_space(string, counter):\n",
    "    for char in string:\n",
    "        if char ==\" \":\n",
    "            counter += 1\n",
    "    print(\"Compteur: \", counter)\n",
    "        \n",
    "count_char_with_space(texte, counter)"
   ]
  },
  {
   "cell_type": "code",
   "execution_count": 111,
   "metadata": {},
   "outputs": [],
   "source": [
    "text2 = \"We introduce here the Python language. To learn more about the language, consider going through the excellent tutorial https://docs.python.org/ tutorial. Dedicated books are also available, such ashttp://www.  diveintopython.net/.\""
   ]
  },
  {
   "cell_type": "code",
   "execution_count": 124,
   "metadata": {},
   "outputs": [
    {
     "name": "stdout",
     "output_type": "stream",
     "text": [
      "Compteur:  28\n"
     ]
    }
   ],
   "source": [
    "count_char_with_space(text2, counter)"
   ]
  },
  {
   "cell_type": "code",
   "execution_count": 126,
   "metadata": {},
   "outputs": [
    {
     "data": {
      "text/plain": [
       "28"
      ]
     },
     "execution_count": 126,
     "metadata": {},
     "output_type": "execute_result"
    }
   ],
   "source": [
    "# Using len & split function\n",
    "cnt = len(text2.split())\n",
    "\n",
    "cnt"
   ]
  },
  {
   "cell_type": "markdown",
   "metadata": {},
   "source": [
    "## Exercice 3 \n",
    "\n",
    "Cas : Demander à l'utilisateur de rentré 3 mots à la suite, puis renvoie les mots triés par ordre alphabétique"
   ]
  },
  {
   "cell_type": "code",
   "execution_count": 170,
   "metadata": {},
   "outputs": [
    {
     "name": "stdout",
     "output_type": "stream",
     "text": [
      "Telsa\n",
      "Nikola\n",
      "Abramov\n"
     ]
    },
    {
     "data": {
      "text/plain": [
       "['Abramov', 'Nikola', 'Telsa']"
      ]
     },
     "execution_count": 170,
     "metadata": {},
     "output_type": "execute_result"
    }
   ],
   "source": [
    "user_1 = input(\"\")\n",
    "user_2 = input(\"\")\n",
    "user_3 = input(\"\")\n",
    "users = []\n",
    "\n",
    "users.append(user_1)\n",
    "users.append(user_2)\n",
    "users.append(user_3)\n",
    "\n",
    "sorted(users)"
   ]
  },
  {
   "cell_type": "code",
   "execution_count": null,
   "metadata": {},
   "outputs": [],
   "source": [
    "def populate_word():\n",
    "    users = []\n",
    "    word = input(\"\")\n",
    "    while word:\n",
    "        if word ==\"Fin\":\n",
    "            quit()\n",
    "        word = input(\"\")\n",
    "        users.append(word)\n",
    "\n",
    "        \n",
    "populate_word()"
   ]
  },
  {
   "cell_type": "markdown",
   "metadata": {},
   "source": [
    "## Exercice 4\n",
    "\n",
    "Jeu de cartes\n",
    "\n",
    "1. Générer les 52 cartes\n",
    "2. Mélanger la liste des cartes"
   ]
  },
  {
   "cell_type": "code",
   "execution_count": 150,
   "metadata": {},
   "outputs": [
    {
     "name": "stdout",
     "output_type": "stream",
     "text": [
      "Nombre de cartes 48 \n",
      "\n",
      "[('2', 'Coeur'), ('2', 'Trefle'), ('2', 'Carreau'), ('2', 'Pique'), ('3', 'Coeur'), ('3', 'Trefle'), ('3', 'Carreau'), ('3', 'Pique'), ('4', 'Coeur'), ('4', 'Trefle'), ('4', 'Carreau'), ('4', 'Pique'), ('5', 'Coeur'), ('5', 'Trefle'), ('5', 'Carreau'), ('5', 'Pique'), ('6', 'Coeur'), ('6', 'Trefle'), ('6', 'Carreau'), ('6', 'Pique'), ('7', 'Coeur'), ('7', 'Trefle'), ('7', 'Carreau'), ('7', 'Pique'), ('8', 'Coeur'), ('8', 'Trefle'), ('8', 'Carreau'), ('8', 'Pique'), ('9', 'Coeur'), ('9', 'Trefle'), ('9', 'Carreau'), ('9', 'Pique'), ('10', 'Coeur'), ('10', 'Trefle'), ('10', 'Carreau'), ('10', 'Pique'), ('Valet', 'Coeur'), ('Valet', 'Trefle'), ('Valet', 'Carreau'), ('Valet', 'Pique'), ('Dame', 'Coeur'), ('Dame', 'Trefle'), ('Dame', 'Carreau'), ('Dame', 'Pique'), ('As', 'Coeur'), ('As', 'Trefle'), ('As', 'Carreau'), ('As', 'Pique')]\n"
     ]
    }
   ],
   "source": [
    "values = [\"2\", \"3\", \"4\", \"5\",\"6\", \"7\", \"8\", \"9\", \"10\", \"Valet\", \"Dame\", \"As\"]\n",
    "colors = [\"Coeur\", \"Trefle\", \"Carreau\", \"Pique\"]\n",
    "\n",
    "cartes = [(v,c) for v in values for c in colors]\n",
    "count_cartes = len(cartes)\n",
    "\n",
    "print(\"Nombre de cartes {} \\n\".format(count_cartes))\n",
    "print(cartes)"
   ]
  },
  {
   "cell_type": "code",
   "execution_count": 99,
   "metadata": {},
   "outputs": [],
   "source": [
    "melange_cartes = shuffle(cartes)\n",
    "melange_cartes"
   ]
  },
  {
   "cell_type": "markdown",
   "metadata": {},
   "source": [
    "### Exercice 7"
   ]
  },
  {
   "cell_type": "code",
   "execution_count": 152,
   "metadata": {},
   "outputs": [
    {
     "name": "stdout",
     "output_type": "stream",
     "text": [
      "{'mange': 'Eat', 'boire': 'Drink', 'dormir': 'Sleep', 'cerveau': 'brain'}\n"
     ]
    }
   ],
   "source": [
    "myDict = {\n",
    "    \"mange\": \"Eat\",\n",
    "    \"boire\": \"Drink\",\n",
    "    \"dormir\": \"Sleep\"\n",
    "}\n",
    "\n",
    "myDict['cerveau'] = \"brain\" \n",
    "\n",
    "print(myDict)"
   ]
  },
  {
   "cell_type": "code",
   "execution_count": 155,
   "metadata": {},
   "outputs": [
    {
     "data": {
      "text/plain": [
       "{'Eat': 'mange', 'Drink': 'boire', 'Sleep': 'dormir', 'brain': 'cerveau'}"
      ]
     },
     "execution_count": 155,
     "metadata": {},
     "output_type": "execute_result"
    }
   ],
   "source": [
    "en_fr = { v: k for k, v in myDict.items()}\n",
    "print(en_fr)"
   ]
  },
  {
   "cell_type": "code",
   "execution_count": 161,
   "metadata": {},
   "outputs": [
    {
     "name": "stdout",
     "output_type": "stream",
     "text": [
      "Pas de traduction pour ce mot\n",
      "Pas de traduction pour ce mot\n",
      "Pas de traduction pour ce mot\n",
      "brain\n"
     ]
    }
   ],
   "source": [
    "for key,val in myDict.items():\n",
    "    if key == 'cerveau':\n",
    "        print(val)\n",
    "    else:\n",
    "        print(\"Pas de traduction pour ce mot\")"
   ]
  },
  {
   "cell_type": "code",
   "execution_count": 163,
   "metadata": {},
   "outputs": [
    {
     "name": "stdout",
     "output_type": "stream",
     "text": [
      "{'mange': ['eat', 'absorb'], 'boire': [' drink ', 'sip'], 'cerveau': ['brain', 'mind']}\n"
     ]
    }
   ],
   "source": [
    "myDict_2 = {\"mange\":[\"eat\" ,\"absorb\"], \"boire\":[\" drink \" ,\"sip\"], 'cerveau': ['brain',\"mind\"]}\n",
    "print(myDict_2)"
   ]
  },
  {
   "cell_type": "code",
   "execution_count": 166,
   "metadata": {},
   "outputs": [
    {
     "name": "stdout",
     "output_type": "stream",
     "text": [
      "{'fr_en': {'mange': ['eat', 'absorb'], 'boire': [' drink ', 'sip'], 'cerveau': ['brain', 'mind'], 'chemin': ['Path', 'way']}}\n"
     ]
    }
   ],
   "source": [
    "myDict_2[\"chemin\"] = [\"Path\", \"way\"]\n",
    "print({\n",
    "    'fr_en': myDict_2\n",
    "})"
   ]
  },
  {
   "cell_type": "code",
   "execution_count": null,
   "metadata": {},
   "outputs": [],
   "source": []
  },
  {
   "cell_type": "code",
   "execution_count": null,
   "metadata": {},
   "outputs": [],
   "source": []
  },
  {
   "cell_type": "markdown",
   "metadata": {},
   "source": [
    "## TD 3 : Instructions de répétitions et tests conditionnels"
   ]
  },
  {
   "cell_type": "markdown",
   "metadata": {},
   "source": [
    "### Exercice 1 :"
   ]
  },
  {
   "cell_type": "code",
   "execution_count": 27,
   "metadata": {},
   "outputs": [
    {
     "name": "stdout",
     "output_type": "stream",
     "text": [
      "Tapez la valeur de n 6\n",
      "La table de multiplication de :  6  est :\n",
      "6 x 1 = 6\n",
      "6 x 2 = 12\n",
      "6 x 3 = 18\n",
      "6 x 4 = 24\n",
      "6 x 5 = 30\n",
      "6 x 6 = 36\n",
      "6 x 7 = 42\n",
      "6 x 8 = 48\n",
      "6 x 9 = 54\n",
      "6 x 10 = 60\n"
     ]
    }
   ],
   "source": [
    "def table_de_multiplication():\n",
    "    n = int(input(\"Tapez la valeur de n \"))\n",
    "    print(\"La table de multiplication de : \", n,\" est :\")\n",
    "    for i in range(1,11):\n",
    "        print(f\"{n} x {i} = {i*n}\")\n",
    "        \n",
    "table_de_multiplication()"
   ]
  },
  {
   "cell_type": "code",
   "execution_count": 32,
   "metadata": {},
   "outputs": [
    {
     "name": "stdout",
     "output_type": "stream",
     "text": [
      "Tapez la valeur de n : 2\n",
      "La table de multiplication de 2 est :\n",
      "2 x 1 = 2  2 x 2 = 4  2 x 3 = 6  2 x 4 = 8  2 x 5 = 10  2 x 6 = 12  2 x 7 = 14  2 x 8 = 16  2 x 9 = 18  2 x 10 = 20  "
     ]
    }
   ],
   "source": [
    "def table_de_multiplication():\n",
    "    n = int(input(\"Tapez la valeur de n : \"))\n",
    "    print(f\"La table de multiplication de {n} est :\")\n",
    "    for i in range(1,11):\n",
    "        print(f\"{n} x {i} = {i*n}\", end = '  ')\n",
    "        \n",
    "table_de_multiplication()"
   ]
  },
  {
   "cell_type": "code",
   "execution_count": 33,
   "metadata": {},
   "outputs": [
    {
     "name": "stdout",
     "output_type": "stream",
     "text": [
      "Tapez la valeur de n : 3\n",
      "La table de multiplication de 3 est :\n",
      "3 x 1 = 3\n",
      "3 x 2 = 6\n",
      "3 x 3 = 9\n"
     ]
    }
   ],
   "source": [
    "def table_de_multiplication_condionnnel():\n",
    "    n = int(input(\"Tapez la valeur de n : \"))\n",
    "    print(f\"La table de multiplication de {n} est :\")\n",
    "    for i in range(1,11):\n",
    "        if(i <= n):\n",
    "            print(f\"{n} x {i} = {i*n}\")\n",
    "        \n",
    "table_de_multiplication_condionnnel()"
   ]
  },
  {
   "cell_type": "code",
   "execution_count": 37,
   "metadata": {},
   "outputs": [
    {
     "name": "stdout",
     "output_type": "stream",
     "text": [
      "Exemple pour N: 4\n",
      "*\n",
      "**\n",
      "***\n",
      "****\n"
     ]
    }
   ],
   "source": [
    "def triangle ():\n",
    "    num = int(input(\"Exemple pour N: \"))\n",
    "    for i in range (1,num+1,1):\n",
    "        print(i*\"*\")\n",
    "        \n",
    "triangle()"
   ]
  },
  {
   "cell_type": "code",
   "execution_count": 52,
   "metadata": {},
   "outputs": [
    {
     "name": "stdout",
     "output_type": "stream",
     "text": [
      "Exemple pour N: 5\n",
      "    *\n",
      "   ***\n",
      "  *****\n",
      " *******\n",
      "*********\n"
     ]
    }
   ],
   "source": [
    "def sapin_noel():\n",
    "    n = int(input(\"Exemple pour N: \"))\n",
    "    for i in range(n):\n",
    "        print(' '*(n-1-i)+'*'*(1+2*i))\n",
    "        \n",
    "sapin_noel()"
   ]
  },
  {
   "cell_type": "markdown",
   "metadata": {},
   "source": [
    "### Exercice 2"
   ]
  },
  {
   "cell_type": "code",
   "execution_count": 95,
   "metadata": {},
   "outputs": [
    {
     "name": "stdout",
     "output_type": "stream",
     "text": [
      "[('January', 31), ('February', 28), ('March', 31), ('April', 30), ('May', 31), ('June', 30), ('July', 31), ('August ', 31), ('September', 30), ('October', 31), ('November', 30), ('December', 31)]\n"
     ]
    }
   ],
   "source": [
    "jours = [31, 28, 31, 30, 31, 30, 31, 31, 30, 31, 30, 31]\n",
    "\n",
    "mois = [\"January\", \"February\", \"March\", \"April\", \"May\", \"June\", \n",
    "        \"July\", \"August \", \"September\", \"October\", \"November\", \"December\"]\n",
    "\n",
    "mj = [(mois[i], jours[i]) for i in range(0, len(mois))] \n",
    "\n",
    "print(mj)"
   ]
  },
  {
   "cell_type": "code",
   "execution_count": 149,
   "metadata": {},
   "outputs": [],
   "source": [
    "ml = []\n",
    "nbrJ = 365\n",
    "\n",
    "mj_len = len(mj)\n",
    "\n",
    "\n",
    "# for j in range(1,12):\n",
    "#     for i in range(0,31):   \n",
    "#         if mj[i][j] == jours[0]:\n",
    "#             print(f\"{j} {mj[0][0]}\")\n",
    "#             ml.append()\n",
    "#         else:\n",
    "\n",
    "# for i in range(1,31):\n",
    "# #     print(f\"{i} {mj[0][0]}\")\n",
    "#     for j in range(1,13):\n",
    "#         print(f\"{j} {mj[i][j]}\")\n",
    "#         ml.append(mj[i][j])\n",
    "# return ml \n",
    "\n",
    "\n",
    "# for i in range(1,31):\n",
    "#     print(f\"{i} {mj[0][0]}\")\n"
   ]
  },
  {
   "cell_type": "code",
   "execution_count": null,
   "metadata": {},
   "outputs": [],
   "source": [
    "jours_semaine = [\"Monday\",\"Tuesday\",\"Wednesday\",\"Thursday\", \"Friday\",\"Saturday\", \"Sunday\"]"
   ]
  },
  {
   "cell_type": "code",
   "execution_count": null,
   "metadata": {},
   "outputs": [],
   "source": []
  },
  {
   "cell_type": "code",
   "execution_count": null,
   "metadata": {},
   "outputs": [],
   "source": []
  },
  {
   "cell_type": "markdown",
   "metadata": {},
   "source": [
    "## Introdcution aux fonctions"
   ]
  },
  {
   "cell_type": "code",
   "execution_count": 70,
   "metadata": {},
   "outputs": [
    {
     "data": {
      "text/plain": [
       "3.141592653589793"
      ]
     },
     "execution_count": 70,
     "metadata": {},
     "output_type": "execute_result"
    }
   ],
   "source": [
    "def surf_cercle(rayon = 1):\n",
    "    s = pi * (rayon**2)\n",
    "    return s\n",
    "\n",
    "surf_cercle()"
   ]
  },
  {
   "cell_type": "code",
   "execution_count": 74,
   "metadata": {},
   "outputs": [
    {
     "name": "stdout",
     "output_type": "stream",
     "text": [
      "17\n"
     ]
    }
   ],
   "source": [
    "def vol_boite(A, B, C):\n",
    "    values = [A, B, C]\n",
    "    print(sum(values))\n",
    "\n",
    "vol_boite(12,2,3)"
   ]
  },
  {
   "cell_type": "code",
   "execution_count": 103,
   "metadata": {},
   "outputs": [
    {
     "data": {
      "text/plain": [
       "32"
      ]
     },
     "execution_count": 103,
     "metadata": {},
     "output_type": "execute_result"
    }
   ],
   "source": [
    "def aire_rectangle(**kwargs):  # les arguments passes en parametre sont paquetes dans kwargs qui se comporte comme un dictionnaire\n",
    "    typeBoite = \"\"\n",
    "    if len(kwargs) == 1:\n",
    "        typeBoite = \"cubique\"\n",
    "        # result = 2\n",
    "        for key, value in kwargs.items():\n",
    "            result *=value\n",
    "        return f\"{typeBoite} : {result}\"\n",
    "    \n",
    "    elif len(kwargs) == 2:\n",
    "        typeBoite = \"parrallélépipède\"\n",
    "        result = 1\n",
    "        for key, value in kwargs.items():\n",
    "            result *=value\n",
    "        return f\"{typeBoite} : {result}\"\n",
    "    \n",
    "    elif len(kwargs) == 3:\n",
    "        typeBoite += \"parrallélépipède\"\n",
    "        for key, value in kwargs.items():\n",
    "            result = 3\n",
    "            result *=value\n",
    "        return f\"{typeBoite} : {result}\"\n",
    "        \n",
    "    else:\n",
    "        print('Merci de stipuler deux parametres')\n",
    "        \n",
    "\n",
    "aire_rectangle2(cote1=4, cote2=8)"
   ]
  },
  {
   "cell_type": "code",
   "execution_count": null,
   "metadata": {},
   "outputs": [],
   "source": [
    "def aire_rectangle(**kwargs):  # les arguments passes en parametre sont paquetes dans kwargs qui se comporte comme un dictionnaire\n",
    "    typeBoite = \"\"\n",
    "     if len(kwargs) == 1:\n",
    "        typeBoite = \"cubique\"\n",
    "        # result = 2\n",
    "        for key, value in kwargs.items():\n",
    "            result *=value\n",
    "        return f\"{typeBoite} : {result}\"\n",
    "    elif len(kwargs) == 2:\n",
    "        typeBoite = \"parrallélépipède\"\n",
    "        result = 1\n",
    "        for key, value in kwargs.items():\n",
    "            result *=value\n",
    "        return f\"{typeBoite} : {result}\"\n",
    "    elif len(kwargs) == 3:\n",
    "        typeBoite += \"parrallélépipède\"\n",
    "        \n",
    "    else:\n",
    "        print('Merci de stipuler deux parametres')"
   ]
  },
  {
   "cell_type": "code",
   "execution_count": 106,
   "metadata": {},
   "outputs": [
    {
     "name": "stdout",
     "output_type": "stream",
     "text": [
      "-1\n",
      "Volume boite cubique : 140.608\n",
      "Volume du prisme : 81.12\n",
      "115.44000000000001\n"
     ]
    }
   ],
   "source": [
    "def volBoite(x1 =-1, x2 =-1, x3 =-1):\n",
    "  \"Volume d'une boîte parallélipipédique\"\n",
    "  if x1 == -1 :\n",
    "      return x1      # aucun argument n'a été fourni\n",
    "  elif x2 == -1 :\n",
    "      return f\"Volume boite cubique : {x1**3}\" # un seul argument -> boîte cubique\n",
    "  elif x3 == -1 :\n",
    "      return f\"Volume du prisme : {x1*x1*x2}\"# deux arguments -> boîte prismatique\n",
    "  else :\n",
    "      return x1*x2*x3\n",
    " \n",
    "print(volBoite()) \n",
    "print(volBoite(5.2)) \n",
    "print(volBoite(5.2, 3)) \n",
    "print(volBoite(5.2, 3, 7.4))"
   ]
  },
  {
   "cell_type": "code",
   "execution_count": null,
   "metadata": {},
   "outputs": [],
   "source": [
    "def remplacement(c1, c2, c3):\n",
    "    if "
   ]
  },
  {
   "cell_type": "code",
   "execution_count": null,
   "metadata": {},
   "outputs": [],
   "source": []
  },
  {
   "cell_type": "code",
   "execution_count": null,
   "metadata": {},
   "outputs": [],
   "source": [
    "def traduire(ch):\n",
    "  \"convertir une ligne du fichier source en liste de données\"\n",
    "  dn = \"\"   # chaîne temporaire pour extraire les données  \n",
    "  tt = []   # la liste à produire\n",
    "  i = 0\n",
    "  while i < len(ch):\n",
    "      if ch[i] == \"#\":\n",
    "      tt.append(dn)   # on ajoute la donnée à la liste, et   \n",
    "      dn =\"\"  # on réinitialise la chaine temporaire\n",
    "      else:\n",
    "      dn = dn + ch[i]\n",
    "      i = i + 1\n",
    "  return tt\n",
    " \n",
    "def encodage(tt):\n",
    "  \"renvoyer la liste tt, complétée avec la date de naissance et le sexe\"\n",
    "  print \"*** Veuillez entrer les données (ou <Enter> pour terminer) :\"\n",
    "  # Affichage des données déjà présentes dans la liste :\n",
    "  i = 0\n",
    "  while i < len(tt):\n",
    "      print(tt[i], end =' ?)\n",
    "      i = i +1\n",
    "  print()\n",
    "  while 1:\n",
    "      daNai = input(\"Date de naissance : \")\n",
    "      sexe = input(\"Sexe (m ou f) : \")\n",
    "      print(daNai, sexe)\n",
    "      ver = input(\"Entrez <Enter> si c'est correct, sinon <n> \")\n",
    "      if ver == \"\":\n",
    "      break\n",
    "  tt.append(daNai)\n",
    "  tt.append(sexe)\n",
    "  return tt\n",
    " \n",
    "def enregistrer(tt):\n",
    "  \"enregistrer les données de la liste tt en les séparant par des <#>\"\n",
    "  i = 0\n",
    "  while i < len(tt):\n",
    "      fd.write(tt[i] + \"#\")\n",
    "      i = i + 1\n",
    "  fd.write(\"\\n\")      # caractère de fin de ligne\n",
    " \n",
    "fSource = input('Nom du fichier source : ')\n",
    "fDest = input('Nom du fichier destinataire : ')\n",
    "fs = open(fSource, 'r')\n",
    "fd = open(fDest, 'w')\n",
    "while 1:\n",
    "  ligne = fs.readline()      # lire une ligne du fichier source\n",
    "  if ligne ==\"\" or ligne ==\"\\n\":\n",
    "      break\n",
    "  liste = traduire(ligne)      # la convertir en une liste\n",
    "  liste = encodage(liste)      # y ajouter les données supplémentaires\n",
    "  enregistrer(liste)      # sauvegarder dans fichier dest.\n",
    " \n",
    "fd.close()\n",
    "fs.close()"
   ]
  },
  {
   "cell_type": "code",
   "execution_count": null,
   "metadata": {},
   "outputs": [],
   "source": []
  },
  {
   "cell_type": "code",
   "execution_count": null,
   "metadata": {},
   "outputs": [],
   "source": []
  }
 ],
 "metadata": {
  "kernelspec": {
   "display_name": "Python 3",
   "language": "python",
   "name": "python3"
  },
  "language_info": {
   "codemirror_mode": {
    "name": "ipython",
    "version": 3
   },
   "file_extension": ".py",
   "mimetype": "text/x-python",
   "name": "python",
   "nbconvert_exporter": "python",
   "pygments_lexer": "ipython3",
   "version": "3.8.6"
  }
 },
 "nbformat": 4,
 "nbformat_minor": 4
}
