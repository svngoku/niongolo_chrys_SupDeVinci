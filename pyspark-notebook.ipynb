{
 "cells": [
  {
   "cell_type": "code",
   "execution_count": null,
   "metadata": {},
   "outputs": [],
   "source": []
  },
  {
   "cell_type": "markdown",
   "metadata": {},
   "source": [
    "##  Introduction à Python avec PySpark\n",
    "\n",
    "TD 2 : Types de données "
   ]
  },
  {
   "cell_type": "code",
   "execution_count": 2,
   "metadata": {},
   "outputs": [],
   "source": [
    "import os\n",
    "import string  "
   ]
  },
  {
   "cell_type": "markdown",
   "metadata": {},
   "source": [
    "### Exercice 1 ( Chaines de caractères ) "
   ]
  },
  {
   "cell_type": "code",
   "execution_count": 74,
   "metadata": {},
   "outputs": [
    {
     "name": "stdout",
     "output_type": "stream",
     "text": [
      "4, 4, 3, 8, 2, 3, 7, 3, 7, 4, 7\n",
      "'X', 'b', 'f', 'j', 'j', 'd', 'j', 'g', 'f', 'j', 'h', 'n', 'e', 'i'\n"
     ]
    }
   ],
   "source": [
    "c = \"X44bf38j23jdjgfjh737nei47\"\n",
    "\n",
    "c_num_array = [int(i) for i in c if i.isdigit()]\n",
    "c_alpha_array = [str(i) for i in c if i.isalpha()]\n",
    "\n",
    "c_num = str(c_num_array).strip('[]')\n",
    "c_alpha = str(c_alpha_array).strip('[]')\n",
    "\n",
    "print(str(c_num))\n",
    "print(str(c_alpha))"
   ]
  },
  {
   "cell_type": "code",
   "execution_count": 80,
   "metadata": {},
   "outputs": [
    {
     "data": {
      "text/plain": [
       "'X44bf38j24jdjgfjh737nei47'"
      ]
     },
     "execution_count": 80,
     "metadata": {},
     "output_type": "execute_result"
    }
   ],
   "source": [
    "def verify_and_replace(string):\n",
    "    if(string.find('j23')):\n",
    "       string = string.replace('j23', 'j24')\n",
    "    return string\n",
    "\n",
    "verify_and_replace(c)"
   ]
  },
  {
   "cell_type": "markdown",
   "metadata": {},
   "source": [
    "### Exercice 2 ( Chaines de caractères ) "
   ]
  },
  {
   "cell_type": "code",
   "execution_count": 81,
   "metadata": {},
   "outputs": [],
   "source": [
    "texte = \"We introduce here the Python language\"\n",
    "counter = 0\n",
    "\n",
    "def count_char(string):\n",
    "    for char in string:\n",
    "        print(char)\n"
   ]
  }
 ],
 "metadata": {
  "kernelspec": {
   "display_name": "Python 3",
   "language": "python",
   "name": "python3"
  },
  "language_info": {
   "codemirror_mode": {
    "name": "ipython",
    "version": 3
   },
   "file_extension": ".py",
   "mimetype": "text/x-python",
   "name": "python",
   "nbconvert_exporter": "python",
   "pygments_lexer": "ipython3",
   "version": "3.8.6"
  }
 },
 "nbformat": 4,
 "nbformat_minor": 4
}
