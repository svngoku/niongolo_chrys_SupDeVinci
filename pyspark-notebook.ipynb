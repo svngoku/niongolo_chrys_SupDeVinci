{
 "cells": [
  {
   "cell_type": "markdown",
   "metadata": {},
   "source": [
    "#  Introduction à Python\n",
    "TD 2 : Types de données "
   ]
  },
  {
   "cell_type": "code",
   "execution_count": 138,
   "metadata": {},
   "outputs": [],
   "source": [
    "import os\n",
    "import string\n",
    "from random import shuffle"
   ]
  },
  {
   "cell_type": "markdown",
   "metadata": {},
   "source": [
    "## Exercice 1 ( Chaines de caractères )\n",
    "\n",
    "Notre algorithme s'occupe de parcourir la chaine et stocker les valeurs numérique et alphanumerique dans des tableaux spécifique puis affiche ses valeurs sous forme de chaine"
   ]
  },
  {
   "cell_type": "code",
   "execution_count": 169,
   "metadata": {},
   "outputs": [
    {
     "name": "stdout",
     "output_type": "stream",
     "text": [
      "Chaine: X44bf38j23jdjgfjh737nei47 \n",
      "\n",
      "4, 4, 3, 8, 2, 3, 7, 3, 7, 4, 7\n",
      "'X', 'b', 'f', 'j', 'j', 'd', 'j', 'g', 'f', 'j', 'h', 'n', 'e', 'i'\n"
     ]
    }
   ],
   "source": [
    "c = \"X44bf38j23jdjgfjh737nei47\"\n",
    "\n",
    "c_num_array = [int(i) for i in c if i.isdigit()]\n",
    "c_alpha_array = [str(i) for i in c if i.isalpha()]\n",
    "\n",
    "c_num = str(c_num_array).strip('[]')\n",
    "c_alpha = str(c_alpha_array).strip('[]')\n",
    "\n",
    "print(\"Chaine: {} \\n\".format(c))\n",
    "print(c_num)\n",
    "print(c_alpha)"
   ]
  },
  {
   "cell_type": "code",
   "execution_count": 80,
   "metadata": {},
   "outputs": [
    {
     "data": {
      "text/plain": [
       "'X44bf38j24jdjgfjh737nei47'"
      ]
     },
     "execution_count": 80,
     "metadata": {},
     "output_type": "execute_result"
    }
   ],
   "source": [
    "def verify_and_replace(string):\n",
    "    if(string.find('j23')):\n",
    "       string = string.replace('j23', 'j24')\n",
    "    return string\n",
    "\n",
    "verify_and_replace(c)"
   ]
  },
  {
   "cell_type": "markdown",
   "metadata": {},
   "source": [
    "## Exercice 2 ( Chaines de caractères ) "
   ]
  },
  {
   "cell_type": "code",
   "execution_count": 88,
   "metadata": {},
   "outputs": [
    {
     "data": {
      "text/plain": [
       "37"
      ]
     },
     "execution_count": 88,
     "metadata": {},
     "output_type": "execute_result"
    }
   ],
   "source": [
    "texte = \"We introduce here the Python language\"\n",
    "counter = 0\n",
    "\n",
    "len(texte)"
   ]
  },
  {
   "cell_type": "markdown",
   "metadata": {},
   "source": [
    "### Compte le nombre de caractère"
   ]
  },
  {
   "cell_type": "code",
   "execution_count": 87,
   "metadata": {},
   "outputs": [
    {
     "name": "stdout",
     "output_type": "stream",
     "text": [
      "37\n"
     ]
    }
   ],
   "source": [
    "def count_words(string, counter):\n",
    "    for char in string:\n",
    "        counter += 1\n",
    "    print(counter)\n",
    "        \n",
    "count_words(texte, counter)"
   ]
  },
  {
   "cell_type": "markdown",
   "metadata": {},
   "source": [
    "### Compte le nombre de caractère sans espace "
   ]
  },
  {
   "cell_type": "code",
   "execution_count": 104,
   "metadata": {},
   "outputs": [
    {
     "name": "stdout",
     "output_type": "stream",
     "text": [
      "Compteur:  5\n"
     ]
    }
   ],
   "source": [
    "def count_char_without_space(string, counter):\n",
    "    for char in string:\n",
    "        if char != \" \":\n",
    "            counter = ++counter\n",
    "    print(counter)\n",
    "        \n",
    "count_char_with_space(texte, counter)"
   ]
  },
  {
   "cell_type": "markdown",
   "metadata": {},
   "source": [
    "### Compte le nombre de caractère avec espace "
   ]
  },
  {
   "cell_type": "code",
   "execution_count": 109,
   "metadata": {},
   "outputs": [
    {
     "name": "stdout",
     "output_type": "stream",
     "text": [
      "Compteur:  5\n"
     ]
    }
   ],
   "source": [
    "def count_char_with_space(string, counter):\n",
    "    for char in string:\n",
    "        if char ==\" \":\n",
    "            counter += 1\n",
    "    print(\"Compteur: \", counter)\n",
    "        \n",
    "count_char_with_space(texte, counter)"
   ]
  },
  {
   "cell_type": "code",
   "execution_count": 111,
   "metadata": {},
   "outputs": [],
   "source": [
    "text2 = \"We introduce here the Python language. To learn more about the language, consider going through the excellent tutorial https://docs.python.org/ tutorial. Dedicated books are also available, such ashttp://www.  diveintopython.net/.\""
   ]
  },
  {
   "cell_type": "code",
   "execution_count": 124,
   "metadata": {},
   "outputs": [
    {
     "name": "stdout",
     "output_type": "stream",
     "text": [
      "Compteur:  28\n"
     ]
    }
   ],
   "source": [
    "count_char_with_space(text2, counter)"
   ]
  },
  {
   "cell_type": "code",
   "execution_count": 126,
   "metadata": {},
   "outputs": [
    {
     "data": {
      "text/plain": [
       "28"
      ]
     },
     "execution_count": 126,
     "metadata": {},
     "output_type": "execute_result"
    }
   ],
   "source": [
    "# Using len & split function\n",
    "cnt = len(text2.split())\n",
    "\n",
    "cnt"
   ]
  },
  {
   "cell_type": "markdown",
   "metadata": {},
   "source": [
    "## Exercice 3 \n",
    "\n",
    "Cas : Demander à l'utilisateur de rentré 3 mots à la suite, puis renvoie les mots triés par ordre alphabétique"
   ]
  },
  {
   "cell_type": "code",
   "execution_count": 170,
   "metadata": {},
   "outputs": [
    {
     "name": "stdout",
     "output_type": "stream",
     "text": [
      "Telsa\n",
      "Nikola\n",
      "Abramov\n"
     ]
    },
    {
     "data": {
      "text/plain": [
       "['Abramov', 'Nikola', 'Telsa']"
      ]
     },
     "execution_count": 170,
     "metadata": {},
     "output_type": "execute_result"
    }
   ],
   "source": [
    "user_1 = input(\"\")\n",
    "user_2 = input(\"\")\n",
    "user_3 = input(\"\")\n",
    "users = []\n",
    "\n",
    "users.append(user_1)\n",
    "users.append(user_2)\n",
    "users.append(user_3)\n",
    "\n",
    "sorted(users)"
   ]
  },
  {
   "cell_type": "code",
   "execution_count": null,
   "metadata": {},
   "outputs": [],
   "source": [
    "def populate_word():\n",
    "    users = []\n",
    "    word = input(\"\")\n",
    "    while word:\n",
    "        if word ==\"Fin\":\n",
    "            quit()\n",
    "        word = input(\"\")\n",
    "        users.append(word)\n",
    "\n",
    "        \n",
    "populate_word()"
   ]
  },
  {
   "cell_type": "markdown",
   "metadata": {},
   "source": [
    "## Exercice 4\n",
    "\n",
    "Jeu de cartes\n",
    "\n",
    "1. Générer les 52 cartes\n",
    "2. Mélanger la liste des cartes"
   ]
  },
  {
   "cell_type": "code",
   "execution_count": 152,
   "metadata": {},
   "outputs": [
    {
     "name": "stdout",
     "output_type": "stream",
     "text": [
      "Nombre de cartes 48 \n",
      "\n",
      "['2Coeur', '2Trefle', '2Carreau', '2Pique', '3Coeur', '3Trefle', '3Carreau', '3Pique', '4Coeur', '4Trefle', '4Carreau', '4Pique', '5Coeur', '5Trefle', '5Carreau', '5Pique', '6Coeur', '6Trefle', '6Carreau', '6Pique', '7Coeur', '7Trefle', '7Carreau', '7Pique', '8Coeur', '8Trefle', '8Carreau', '8Pique', '9Coeur', '9Trefle', '9Carreau', '9Pique', '10Coeur', '10Trefle', '10Carreau', '10Pique', 'ValetCoeur', 'ValetTrefle', 'ValetCarreau', 'ValetPique', 'DameCoeur', 'DameTrefle', 'DameCarreau', 'DamePique', 'AsCoeur', 'AsTrefle', 'AsCarreau', 'AsPique']\n"
     ]
    }
   ],
   "source": [
    "values = [\"2\", \"3\", \"4\", \"5\",\"6\", \"7\", \"8\", \"9\", \"10\", \"Valet\", \"Dame\", \"As\"]\n",
    "colors = [\"Coeur\", \"Trefle\", \"Carreau\", \"Pique\"]\n",
    "\n",
    "cartes = [v + c for v in values for c in colors]\n",
    "count_cartes = len(cartes)\n",
    "\n",
    "print(\"Nombre de cartes {} \\n\".format(count_cartes))\n",
    "print(cartes)"
   ]
  },
  {
   "cell_type": "code",
   "execution_count": 142,
   "metadata": {},
   "outputs": [
    {
     "name": "stdout",
     "output_type": "stream",
     "text": [
      "None\n"
     ]
    }
   ],
   "source": [
    "melange_cartes = shuffle(cartes)\n",
    "print(melange_cartes)"
   ]
  }
 ],
 "metadata": {
  "kernelspec": {
   "display_name": "Python 3",
   "language": "python",
   "name": "python3"
  },
  "language_info": {
   "codemirror_mode": {
    "name": "ipython",
    "version": 3
   },
   "file_extension": ".py",
   "mimetype": "text/x-python",
   "name": "python",
   "nbconvert_exporter": "python",
   "pygments_lexer": "ipython3",
   "version": "3.8.6"
  }
 },
 "nbformat": 4,
 "nbformat_minor": 4
}
